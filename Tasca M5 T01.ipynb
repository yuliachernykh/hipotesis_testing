{
 "cells": [
  {
   "cell_type": "markdown",
   "id": "e5137cb3",
   "metadata": {},
   "source": [
    "## - Exercici 1\n",
    "#### Descarrega el dataset adjunt de dades oficials de la UEFA i selecciona un atribut del conjunt de dades."
   ]
  },
  {
   "cell_type": "code",
   "execution_count": 1,
   "id": "6d41aa10",
   "metadata": {},
   "outputs": [],
   "source": [
    "import pandas as pd\n",
    "import numpy as np\n",
    "import scipy.stats as stats\n",
    "import matplotlib.pyplot as plt\n",
    "import seaborn as sns"
   ]
  },
  {
   "cell_type": "markdown",
   "id": "edaae762",
   "metadata": {},
   "source": [
    "importem el modul chardet per poder visualitzar el dataframe i indiquem que els separadors són ; i no ,. "
   ]
  },
  {
   "cell_type": "code",
   "execution_count": 3,
   "id": "32f6908e",
   "metadata": {},
   "outputs": [],
   "source": [
    "import chardet\n",
    "\n",
    "with open('LliguesEuropeesUEFA.csv', 'rb') as f:\n",
    "    result = chardet.detect(f.read())\n",
    "    \n",
    "uefa = pd.read_csv('LliguesEuropeesUEFA.csv', encoding=result['encoding'], sep=';')"
   ]
  },
  {
   "cell_type": "markdown",
   "id": "4a8c0983",
   "metadata": {},
   "source": [
    "Mostrem els primers registres"
   ]
  },
  {
   "cell_type": "code",
   "execution_count": 5,
   "id": "d3b591b3",
   "metadata": {},
   "outputs": [
    {
     "data": {
      "text/html": [
       "<div>\n",
       "<style scoped>\n",
       "    .dataframe tbody tr th:only-of-type {\n",
       "        vertical-align: middle;\n",
       "    }\n",
       "\n",
       "    .dataframe tbody tr th {\n",
       "        vertical-align: top;\n",
       "    }\n",
       "\n",
       "    .dataframe thead th {\n",
       "        text-align: right;\n",
       "    }\n",
       "</style>\n",
       "<table border=\"1\" class=\"dataframe\">\n",
       "  <thead>\n",
       "    <tr style=\"text-align: right;\">\n",
       "      <th></th>\n",
       "      <th>Rk</th>\n",
       "      <th>Squad</th>\n",
       "      <th>Country</th>\n",
       "      <th>LgRk</th>\n",
       "      <th>MP</th>\n",
       "      <th>W</th>\n",
       "      <th>D</th>\n",
       "      <th>L</th>\n",
       "      <th>GF</th>\n",
       "      <th>GA</th>\n",
       "      <th>...</th>\n",
       "      <th>Pts</th>\n",
       "      <th>Pts/G</th>\n",
       "      <th>xG</th>\n",
       "      <th>xGA</th>\n",
       "      <th>xGD</th>\n",
       "      <th>xGD/90</th>\n",
       "      <th>Last 5</th>\n",
       "      <th>Attendance</th>\n",
       "      <th>Top Team Scorer</th>\n",
       "      <th>Goalkeeper</th>\n",
       "    </tr>\n",
       "  </thead>\n",
       "  <tbody>\n",
       "    <tr>\n",
       "      <th>0</th>\n",
       "      <td>1</td>\n",
       "      <td>Manchester City</td>\n",
       "      <td>ENG</td>\n",
       "      <td>1</td>\n",
       "      <td>37</td>\n",
       "      <td>28</td>\n",
       "      <td>6</td>\n",
       "      <td>3</td>\n",
       "      <td>96</td>\n",
       "      <td>24</td>\n",
       "      <td>...</td>\n",
       "      <td>90</td>\n",
       "      <td>2.43</td>\n",
       "      <td>86.1</td>\n",
       "      <td>26.8</td>\n",
       "      <td>59.3</td>\n",
       "      <td>1.60</td>\n",
       "      <td>W W W W D</td>\n",
       "      <td>52739</td>\n",
       "      <td>Kevin De Bruyne - 15</td>\n",
       "      <td>Ederson</td>\n",
       "    </tr>\n",
       "    <tr>\n",
       "      <th>1</th>\n",
       "      <td>2</td>\n",
       "      <td>Liverpool</td>\n",
       "      <td>ENG</td>\n",
       "      <td>2</td>\n",
       "      <td>36</td>\n",
       "      <td>26</td>\n",
       "      <td>8</td>\n",
       "      <td>2</td>\n",
       "      <td>89</td>\n",
       "      <td>24</td>\n",
       "      <td>...</td>\n",
       "      <td>86</td>\n",
       "      <td>2.39</td>\n",
       "      <td>84.6</td>\n",
       "      <td>33.1</td>\n",
       "      <td>51.4</td>\n",
       "      <td>1.43</td>\n",
       "      <td>W W W D W</td>\n",
       "      <td>53367</td>\n",
       "      <td>Mohamed Salah - 22</td>\n",
       "      <td>Alisson</td>\n",
       "    </tr>\n",
       "    <tr>\n",
       "      <th>2</th>\n",
       "      <td>3</td>\n",
       "      <td>Real Madrid</td>\n",
       "      <td>ESP</td>\n",
       "      <td>1</td>\n",
       "      <td>37</td>\n",
       "      <td>26</td>\n",
       "      <td>7</td>\n",
       "      <td>4</td>\n",
       "      <td>80</td>\n",
       "      <td>31</td>\n",
       "      <td>...</td>\n",
       "      <td>85</td>\n",
       "      <td>2.30</td>\n",
       "      <td>73.0</td>\n",
       "      <td>45.8</td>\n",
       "      <td>27.2</td>\n",
       "      <td>0.73</td>\n",
       "      <td>W W L W D</td>\n",
       "      <td>40624</td>\n",
       "      <td>Karim Benzema - 27</td>\n",
       "      <td>Thibaut Courtois</td>\n",
       "    </tr>\n",
       "    <tr>\n",
       "      <th>3</th>\n",
       "      <td>4</td>\n",
       "      <td>Bayern Munich</td>\n",
       "      <td>GER</td>\n",
       "      <td>1</td>\n",
       "      <td>34</td>\n",
       "      <td>24</td>\n",
       "      <td>5</td>\n",
       "      <td>5</td>\n",
       "      <td>97</td>\n",
       "      <td>37</td>\n",
       "      <td>...</td>\n",
       "      <td>77</td>\n",
       "      <td>2.26</td>\n",
       "      <td>88.1</td>\n",
       "      <td>37.1</td>\n",
       "      <td>51.0</td>\n",
       "      <td>1.50</td>\n",
       "      <td>W W L D D</td>\n",
       "      <td>33176</td>\n",
       "      <td>Robert Lewandowski - 35</td>\n",
       "      <td>Manuel Neuer</td>\n",
       "    </tr>\n",
       "    <tr>\n",
       "      <th>4</th>\n",
       "      <td>5</td>\n",
       "      <td>Paris S-G</td>\n",
       "      <td>FRA</td>\n",
       "      <td>1</td>\n",
       "      <td>37</td>\n",
       "      <td>25</td>\n",
       "      <td>8</td>\n",
       "      <td>4</td>\n",
       "      <td>85</td>\n",
       "      <td>36</td>\n",
       "      <td>...</td>\n",
       "      <td>83</td>\n",
       "      <td>2.24</td>\n",
       "      <td>71.6</td>\n",
       "      <td>38.1</td>\n",
       "      <td>33.4</td>\n",
       "      <td>0.90</td>\n",
       "      <td>W D D D W</td>\n",
       "      <td>41188</td>\n",
       "      <td>Kylian Mbappé - 25</td>\n",
       "      <td>Keylor Navas</td>\n",
       "    </tr>\n",
       "  </tbody>\n",
       "</table>\n",
       "<p>5 rows × 21 columns</p>\n",
       "</div>"
      ],
      "text/plain": [
       "   Rk            Squad Country  LgRk  MP   W  D  L  GF  GA  ...  Pts  Pts/G  \\\n",
       "0   1  Manchester City     ENG     1  37  28  6  3  96  24  ...   90   2.43   \n",
       "1   2        Liverpool     ENG     2  36  26  8  2  89  24  ...   86   2.39   \n",
       "2   3      Real Madrid     ESP     1  37  26  7  4  80  31  ...   85   2.30   \n",
       "3   4    Bayern Munich     GER     1  34  24  5  5  97  37  ...   77   2.26   \n",
       "4   5        Paris S-G     FRA     1  37  25  8  4  85  36  ...   83   2.24   \n",
       "\n",
       "     xG   xGA   xGD  xGD/90     Last 5 Attendance          Top Team Scorer  \\\n",
       "0  86.1  26.8  59.3    1.60  W W W W D      52739     Kevin De Bruyne - 15   \n",
       "1  84.6  33.1  51.4    1.43  W W W D W      53367       Mohamed Salah - 22   \n",
       "2  73.0  45.8  27.2    0.73  W W L W D      40624       Karim Benzema - 27   \n",
       "3  88.1  37.1  51.0    1.50  W W L D D      33176  Robert Lewandowski - 35   \n",
       "4  71.6  38.1  33.4    0.90  W D D D W      41188       Kylian Mbappé - 25   \n",
       "\n",
       "         Goalkeeper  \n",
       "0           Ederson  \n",
       "1           Alisson  \n",
       "2  Thibaut Courtois  \n",
       "3      Manuel Neuer  \n",
       "4      Keylor Navas  \n",
       "\n",
       "[5 rows x 21 columns]"
      ]
     },
     "execution_count": 5,
     "metadata": {},
     "output_type": "execute_result"
    }
   ],
   "source": [
    "uefa.head()"
   ]
  },
  {
   "cell_type": "markdown",
   "id": "e1042458",
   "metadata": {},
   "source": [
    "Les columnes del conjunt de dades són:\n",
    "\n",
    "- Rk: Rànquing de l'equip\n",
    "- Squad: Nom de l'equip\n",
    "- Country: País de l'equip\n",
    "- LgRk: Rànquing de l'equip a la seva lliga nacional\n",
    "- MP: Partits jugats\n",
    "- W: Partits guanyats\n",
    "- D: Partits empatats\n",
    "- L: Partits perduts\n",
    "- GF: Gols a favor\n",
    "- GA: Gols en contra\n",
    "- GD: Diferència de gols (GF - GA)\n",
    "- Pts: Punts obtinguts a la lliga\n",
    "- Pts/G: Mitjana de punts obtinguts per partit jugat\n",
    "- xG: Expected Goals (gols esperats) de l'equip a la temporada, segons un model estadístic\n",
    "- xGA: Expected Goals en contra de l'equip a la temporada, segons un model estadístic\n",
    "- xGD: Expected Goals Difference (diferència de gols esperats) de l'equip a la temporada, segons un model estadístic\n",
    "- xGD/90: Expected Goals Difference per partit jugat\n",
    "- Last 5: Últims 5 partits jugats (en ordre cronològic)\n",
    "- Attendance: mitjana d'assistència a l'estadi durant la temporada\n",
    "- Top Team Scorer: Màxim golejador de l'equip a la temporada\n",
    "- Goalkeeper: Porter titular de l'equip a la temporada"
   ]
  },
  {
   "cell_type": "markdown",
   "id": "3b5e8c85",
   "metadata": {},
   "source": [
    "Explorem el tipus de dades que conté la taula i veiem que la majoria són integers, floats i que hi ha 5 objectes, fet que vol dir que deuen ser variables categòriques."
   ]
  },
  {
   "cell_type": "code",
   "execution_count": 6,
   "id": "edb5be6a",
   "metadata": {},
   "outputs": [
    {
     "name": "stdout",
     "output_type": "stream",
     "text": [
      "<class 'pandas.core.frame.DataFrame'>\n",
      "RangeIndex: 98 entries, 0 to 97\n",
      "Data columns (total 21 columns):\n",
      " #   Column           Non-Null Count  Dtype  \n",
      "---  ------           --------------  -----  \n",
      " 0   Rk               98 non-null     int64  \n",
      " 1   Squad            98 non-null     object \n",
      " 2   Country          98 non-null     object \n",
      " 3   LgRk             98 non-null     int64  \n",
      " 4   MP               98 non-null     int64  \n",
      " 5   W                98 non-null     int64  \n",
      " 6   D                98 non-null     int64  \n",
      " 7   L                98 non-null     int64  \n",
      " 8   GF               98 non-null     int64  \n",
      " 9   GA               98 non-null     int64  \n",
      " 10  GD               98 non-null     int64  \n",
      " 11  Pts              98 non-null     int64  \n",
      " 12  Pts/G            98 non-null     float64\n",
      " 13  xG               98 non-null     float64\n",
      " 14  xGA              98 non-null     float64\n",
      " 15  xGD              98 non-null     float64\n",
      " 16  xGD/90           98 non-null     float64\n",
      " 17  Last 5           98 non-null     object \n",
      " 18  Attendance       98 non-null     int64  \n",
      " 19  Top Team Scorer  98 non-null     object \n",
      " 20  Goalkeeper       98 non-null     object \n",
      "dtypes: float64(5), int64(11), object(5)\n",
      "memory usage: 16.2+ KB\n"
     ]
    }
   ],
   "source": [
    "uefa.info()"
   ]
  },
  {
   "cell_type": "code",
   "execution_count": 7,
   "id": "6d6e80df",
   "metadata": {},
   "outputs": [
    {
     "data": {
      "text/plain": [
       "0    96\n",
       "1    89\n",
       "2    80\n",
       "3    97\n",
       "4    85\n",
       "5    66\n",
       "6    81\n",
       "7    71\n",
       "8    85\n",
       "9    68\n",
       "Name: GF, dtype: int64"
      ]
     },
     "execution_count": 7,
     "metadata": {},
     "output_type": "execute_result"
    }
   ],
   "source": [
    "uefa['GF'].head(10)"
   ]
  },
  {
   "cell_type": "markdown",
   "id": "b1360dc4",
   "metadata": {},
   "source": [
    "#### Calcula el p-valor i digues si rebutja la hipòtesi nul·la agafant un alfa de 5%. "
   ]
  },
  {
   "cell_type": "markdown",
   "id": "28114b52",
   "metadata": {},
   "source": [
    "Hipòtesi nula (H0): El promig de gols a favor a la lliga és igual a 50.\n",
    "Hipòtesi alternativa (Ha): El promig de gols a favor a la lliga no és igual a 50.\n"
   ]
  },
  {
   "cell_type": "code",
   "execution_count": 8,
   "id": "af604151",
   "metadata": {},
   "outputs": [],
   "source": [
    "from scipy.stats import ttest_1samp"
   ]
  },
  {
   "cell_type": "code",
   "execution_count": 9,
   "id": "d7eb115c",
   "metadata": {},
   "outputs": [
    {
     "name": "stdout",
     "output_type": "stream",
     "text": [
      "Promig de gols a favor: 50.87755102040816\n"
     ]
    }
   ],
   "source": [
    "gf_mean = uefa['GF'].mean()\n",
    "print(f\"Promig de gols a favor: {gf_mean}\")"
   ]
  },
  {
   "cell_type": "markdown",
   "id": "521abbc7",
   "metadata": {},
   "source": [
    "A continuación, realizarem el t-test y calcularem el p-valor:"
   ]
  },
  {
   "cell_type": "code",
   "execution_count": 31,
   "id": "813c4a88",
   "metadata": {},
   "outputs": [
    {
     "name": "stdout",
     "output_type": "stream",
     "text": [
      "Estadistica t: 0.5394863210636687\n",
      "p-valor: 0.5907875811044541\n"
     ]
    }
   ],
   "source": [
    "t_stat, p_val = ttest_1samp(uefa['GF'], 50)\n",
    "\n",
    "print(f\"Estadistica t: {t_stat}\")\n",
    "print(f\"p-valor: {p_val}\")"
   ]
  },
  {
   "cell_type": "markdown",
   "id": "2e75474f",
   "metadata": {},
   "source": [
    "Com que el p-valor és major que el nivell de significància, no podem rebutjar la hipòtesi nula i concluim que no hi ha suficient evidència estadística per afirmar que el promig de gols a favor a la lliga no és igual a 50."
   ]
  },
  {
   "cell_type": "markdown",
   "id": "75611db4",
   "metadata": {},
   "source": [
    "A la seguent gràfica de distribució podem veure la mitja (línia vermella) i la hipòtesi nula (línia verda) molt a prop. "
   ]
  },
  {
   "cell_type": "code",
   "execution_count": 61,
   "id": "8e44081c",
   "metadata": {},
   "outputs": [
    {
     "data": {
      "image/png": "[encoded data removed]",
      "text/plain": [
       "<Figure size 432x288 with 1 Axes>"
      ]
     },
     "metadata": {
      "needs_background": "light"
     },
     "output_type": "display_data"
    }
   ],
   "source": [
    "sns.histplot(uefa['GF'], kde=True)\n",
    "plt.axvline(uefa['GF'].mean(), color='red', linestyle='--', label='Mitjana')\n",
    "plt.axvline(50, color='green', linestyle='--', label='Hipòtesi nula')\n",
    "plt.legend()\n",
    "plt.show()"
   ]
  },
  {
   "cell_type": "markdown",
   "id": "6d06623a",
   "metadata": {},
   "source": [
    "## - Exercici 2\n",
    "#### Amb el mateix dataset selecciona dos altres atributs del conjunt de dades. Calcula els p-valors i digues si rebutgen la hipòtesi nul·la agafant un alfa de 5%."
   ]
  },
  {
   "cell_type": "markdown",
   "id": "91b0c648",
   "metadata": {},
   "source": [
    "Seleccionem els atributs \"xG\" (Expected Goals) i \"Pts\" (Punts) del conjunt de dades.\n",
    "\n",
    "Hipòtesi nul·la (H0): La correlació entre xG i Pts és igual a zero.\n",
    "\n",
    "Hipòtesi alternativa (Ha): La correlació entre xG i Pts no és igual a zero.\n",
    "\n",
    "Per provar aquesta hipòtesi, podem fer una prova de correlació i calcular el valor p. Utilitzant un nivell de significància de 0,05, si el valor p és menor que 0,05, rebutgem la hipòtesi nul·la i concloem que hi ha evidència suficient per afirmar que hi ha una correlació entre xG i Pts.\n",
    "\n",
    "El codi per fer aquesta prova seria el següent:\n"
   ]
  },
  {
   "cell_type": "code",
   "execution_count": 48,
   "id": "e5c3172e",
   "metadata": {},
   "outputs": [
    {
     "name": "stdout",
     "output_type": "stream",
     "text": [
      "stat=0.848, p=0.000\n",
      "Probablement dependent\n"
     ]
    }
   ],
   "source": [
    "xG = uefa['xG']\n",
    "Pts = uefa['Pts']\n",
    "stat, p = pearsonr(xG, Pts)\n",
    "print('stat=%.3f, p=%.3f' % (stat, p))\n",
    "if p > 0.05:\n",
    " print('Probablement independent')\n",
    "else:\n",
    " print('Probablement dependent')"
   ]
  },
  {
   "cell_type": "markdown",
   "id": "2b804de0",
   "metadata": {},
   "source": [
    "Hem de rebutjar la hipotesis nula perquè el p value és igual a 0. Hi ha correlació entre les dues variables. A continuació grafiquem la correlació i veiem que és força important."
   ]
  },
  {
   "cell_type": "code",
   "execution_count": 10,
   "id": "696d17c6",
   "metadata": {},
   "outputs": [
    {
     "data": {
      "image/png": "[encoded data removed]",
      "text/plain": [
       "<Figure size 432x288 with 1 Axes>"
      ]
     },
     "metadata": {
      "needs_background": "light"
     },
     "output_type": "display_data"
    }
   ],
   "source": [
    "sns.regplot(x=uefa.xG, y=uefa.Pts)\n",
    "plt.title('Gols esperats y punts obtinguts')\n",
    "plt.xlabel('xG: Gols esperats')\n",
    "plt.ylabel('DPts: Punts obtinguts')\n",
    "plt.show()"
   ]
  },
  {
   "cell_type": "markdown",
   "id": "45de94bb",
   "metadata": {},
   "source": [
    "## - Exercici 3\n",
    "#### Continua amb el conjunt de dades adjunt i selecciona tres atributs del conjunt de dades. Calcula el p-valor i digues si rebutja la hipòtesi nul·la agafant un alfa de 5%."
   ]
  },
  {
   "cell_type": "markdown",
   "id": "54868492",
   "metadata": {},
   "source": [
    "Compararem si les variables W(partits guanyats), D(partits empatats), L(partits perduts) tenen una mateixa distribució. "
   ]
  },
  {
   "cell_type": "markdown",
   "id": "9df80be1",
   "metadata": {},
   "source": [
    "Hipòtesi nul·la (H0): les distribucions de les variables són iguals\n",
    "\n",
    "Hipòtesi alternativa (Ha): les distribucions de les variables no són iguals"
   ]
  },
  {
   "cell_type": "code",
   "execution_count": 65,
   "id": "4126d549",
   "metadata": {},
   "outputs": [
    {
     "name": "stdout",
     "output_type": "stream",
     "text": [
      "stat=23.632, p=0.000\n",
      "Probabablement distribucions diferents\n"
     ]
    }
   ],
   "source": [
    "from scipy.stats import f_oneway\n",
    "data1 = uefa['W']\n",
    "data2 = uefa['D']\n",
    "data3 = uefa['L']\n",
    "stat, p = f_oneway(data1, data2, data3)\n",
    "print('stat=%.3f, p=%.3f' % (stat, p))\n",
    "if p > 0.05:\n",
    " print('Probablement la mateixa distribució')\n",
    "else:\n",
    " print('Probabablement distribucions diferents')"
   ]
  },
  {
   "cell_type": "markdown",
   "id": "17396a44",
   "metadata": {},
   "source": [
    "Rebutgem per tant la hipòtesis nula i observem en el gràfic de kdeplot com les distribucions són efectivament diferents"
   ]
  },
  {
   "cell_type": "code",
   "execution_count": 58,
   "id": "cc44b42b",
   "metadata": {},
   "outputs": [
    {
     "data": {
      "image/png": "[encoded data removed]",
      "text/plain": [
       "<Figure size 432x288 with 1 Axes>"
      ]
     },
     "metadata": {
      "needs_background": "light"
     },
     "output_type": "display_data"
    }
   ],
   "source": [
    "sns.kdeplot(data1, shade=True, label='W')\n",
    "sns.kdeplot(data2, shade=True, label='D')\n",
    "sns.kdeplot(data3, shade=True, label='L')\n",
    "plt.legend()\n",
    "plt.show()"
   ]
  }
 ],
 "metadata": {
  "kernelspec": {
   "display_name": "Python 3 (ipykernel)",
   "language": "python",
   "name": "python3"
  },
  "language_info": {
   "codemirror_mode": {
    "name": "ipython",
    "version": 3
   },
   "file_extension": ".py",
   "mimetype": "text/x-python",
   "name": "python",
   "nbconvert_exporter": "python",
   "pygments_lexer": "ipython3",
   "version": "3.9.12"
  }
 },
 "nbformat": 4,
 "nbformat_minor": 5
}
